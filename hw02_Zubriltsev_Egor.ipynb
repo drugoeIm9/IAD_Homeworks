{
 "cells": [
  {
   "cell_type": "markdown",
   "metadata": {
    "_uuid": "21c25e4f8bb31570029fd6b069131a5d00f84cf1"
   },
   "source": [
    "# Домашнее задание 2 (5 баллов).\n",
    "\n",
    "*Все задания ниже имеют равный вес (5/10)*"
   ]
  },
  {
   "cell_type": "markdown",
   "metadata": {},
   "source": [
    "Код для импорта мы написали за вас (не благодарите, нам не трудно). Дальше код будете писать вы. \n",
    "\n",
    "[Тут](https://habr.com/ru/companies/ruvds/articles/494720/) шпора по pandas. За основу домашнего задания взят ноутбук [отсюда](https://rutube.ru/video/f884aa6ed5f94120b7304506042fe5bb/) (не подглядывайте!)."
   ]
  },
  {
   "cell_type": "code",
   "execution_count": 284,
   "metadata": {
    "_uuid": "568eb2d31004b87d22e119112ae01a1e75105f1d"
   },
   "outputs": [],
   "source": [
    "import pandas as pd\n",
    "import numpy as np"
   ]
  },
  {
   "cell_type": "markdown",
   "metadata": {},
   "source": [
    "#### Описание данных\n",
    "\n",
    "Автор д/з - плохой человек, который не стал переводить описание с мотивировкой, что весь DS на английском. Так что описание полей будет на английском:\n",
    "\n",
    "1. Account ID\n",
    "- Description: A unique identifier for each social media account in the dataset.\n",
    "- Type: Integer\n",
    "- Example: 1, 2, 3, …\n",
    "2. Username\n",
    "- Description: The username or handle of the social media account.\n",
    "- Type: String\n",
    "- Example: john_doe, tech_guru_22, fitness_freak\n",
    "3. Platform\n",
    "- Description: The social media platform the account is using (Instagram, Twitter, Facebook, TikTok, LinkedIn).\n",
    "- Type: Categorical (String)\n",
    "- Example: Instagram, Twitter, Facebook, TikTok, LinkedIn\n",
    "4. Follower Count\n",
    "- Description: The total number of followers the account has.\n",
    "- Type: Integer\n",
    "- Example: 1500, 245000, 78000\n",
    "5. Posts Per Week\n",
    "- Description: The average number of posts the account creates per week.\n",
    "- Type: Integer\n",
    "- Example: 3, 5, 7\n",
    "6. Engagement Rate\n",
    "- Description: The percentage of interactions (likes, comments, shares) relative to the follower count. This is a measure of how engaging the content is.\n",
    "- Type: Float\n",
    "- Range: 0.01 to 0.15\n",
    "- Example: 0.045 (4.5% engagement rate)\n",
    "7. Ad Spend (USD)\n",
    "- Description: The monthly amount spent on advertising or promoting posts.\n",
    "- Type: Float\n",
    "- Example: 150.75, 850.00, 300.50\n",
    "8. Conversion Rate\n",
    "- Description: The percentage of users who take a desired action (e.g., clicking a link, signing up, etc.) after interacting with an ad.\n",
    "- Type: Float\n",
    "- Range: 0.01 to 0.05 (1% to 5% conversion rate)\n",
    "- Example: 0.025 (2.5% conversion rate)\n",
    "9. Campaign Reach\n",
    "- Description: The total number of unique users reached by the user’s campaigns in a given month.\n",
    "- Type: Integer\n",
    "- Example: 5000, 20000, 15000"
   ]
  },
  {
   "cell_type": "markdown",
   "metadata": {},
   "source": [
    "#### Задание 0\n",
    "\n",
    "Подгрузите данные. Да-да, за чтение таблицы баллов не будет))\n",
    "\n",
    "**Hint**: [pd.read_csv](https://pandas.pydata.org/pandas-docs/stable/reference/api/pandas.read_csv.html)"
   ]
  },
  {
   "cell_type": "code",
   "execution_count": 285,
   "metadata": {},
   "outputs": [],
   "source": [
    "df = pd.read_csv(\"data.csv\", sep = \",\", index_col = 0)"
   ]
  },
  {
   "cell_type": "markdown",
   "metadata": {},
   "source": [
    "#### Задание 1\n",
    "\n",
    "Колонка `Platform` содержит название различных платформ. Давайте представим, что в них есть некоторое отношение порядка. Закодируйте каждую платформу целым числом (от 0 до N) и положите этот \"код\" в новую колонку `Platform_Code`. Теперь вычислите корреляцию Спирмена между всеми парами колонок в датасете (результатом будет таблица корреляций). В качестве ответа выведите значение корреляции `Platform_Code` с `Engagement Rate`. Можете после вывода числа еще коротко написать, что оно означает (нет, это не оценивается).\n",
    "\n",
    "**Hint**: [pd.factorize](https://pandas.pydata.org/pandas-docs/stable/reference/api/pandas.factorize.html), [pd.DataFrame.select_dtypes](https://pandas.pydata.org/pandas-docs/stable/reference/api/pandas.DataFrame.select_dtypes.html), [pd.DataFrame.corr](https://pandas.pydata.org/pandas-docs/stable/reference/api/pandas.DataFrame.corr.html)."
   ]
  },
  {
   "cell_type": "code",
   "execution_count": 298,
   "metadata": {},
   "outputs": [
    {
     "name": "stdout",
     "output_type": "stream",
     "text": [
      "0.03138169529349812\n"
     ]
    }
   ],
   "source": [
    "n1 = pd.DataFrame({\"Platform\": df[\"Platform\"], \"Engagement Rate\": df[\"Engagement Rate\"]})\n",
    "\n",
    "n1[\"Platform_Code\"], _ = pd.factorize(n1[\"Platform\"].to_numpy())\n",
    "\n",
    "print(n1.select_dtypes(include=[\"number\"]).corr(method = \"spearman\").loc[\"Platform_Code\", \"Engagement Rate\"])"
   ]
  },
  {
   "cell_type": "markdown",
   "metadata": {},
   "source": [
    "#### Задание 2\n",
    "\n",
    "Теперь посмотрите на столбец `Follower Count`. В нем какие-то числа. Иногда бывает полезно провести дискретизацию такого признака. Разбейте все значения в столбце на 4 группы: \"Low\", \"Medium\", \"High\", \"Very High\". Каждая группа включает в себя новые 25% данных. То есть, Low включает в себя 25% самых маленьких значений признака и так далее. Положите значения \"Low\", \"Medium\", \"High\" или \"Very High\" для каждого сэмпла датасета в новую колонку `Follower_Bin`. Теперь посчитайте среднее значение `Engagement Rate` для каждой категории из `Follower_Bin`. В качестве ответа выведите значение для категории \"High\".\n",
    "\n",
    "**Hint**: [pd.qcut](https://pandas.pydata.org/pandas-docs/stable/reference/api/pandas.qcut.html), [pd.groupby](https://pandas.pydata.org/pandas-docs/stable/reference/api/pandas.DataFrame.groupby.html), [pd.DataFrame.mean](https://pandas.pydata.org/pandas-docs/stable/reference/api/pandas.DataFrame.mean.html)"
   ]
  },
  {
   "cell_type": "code",
   "execution_count": 288,
   "metadata": {},
   "outputs": [
    {
     "name": "stdout",
     "output_type": "stream",
     "text": [
      "0.08655032\n"
     ]
    }
   ],
   "source": [
    "n2 = pd.DataFrame({\"Follower Count\": df[\"Follower Count\"], \"Engagement Rate\": df[\"Engagement Rate\"]})\n",
    "\n",
    "n2[\"Follower_Bin\"] = pd.qcut(n2[\"Follower Count\"], 4, labels = [\"Low\", \"Medium\", \"High\", \"Very High\"])\n",
    "\n",
    "print(n2.groupby(by = \"Follower_Bin\", observed=True).mean()[\"Engagement Rate\"][\"High\"])"
   ]
  },
  {
   "cell_type": "markdown",
   "metadata": {},
   "source": [
    "#### Задание 3\n",
    "\n",
    "Иногда бывает полезно превратить широкую таблицу в длинную (например, для визуализаций сразу нескольких признаков на одной картинке). Да, звучит странно, но именно этим вы сейчас и займетесь. Сделайте новый датафрейм `melted_df`, в который вы поместите каждый сэмпл датасета 6 раз: по одному разу на значение из 'Follower Count', 'Posts Per Week', 'Ad Spend (USD)', 'Conversion Rate', 'Engagement Rate' и 'Campaign Reach'. То есть, вы берете сэмпл из датасета (строку) и превращаете ее в 6 отдельных строк. Каждая отдельная строка в столбце `Metric` имеет имя из предложенного списка 5 признаков, а в столбце `Value` - значение данного сэмпла по этому признаку. Значение `Platform` повторяется в этих 6 строках.\n",
    "\n",
    "Иначе говоря, \n",
    "\n",
    "```json\n",
    "{\n",
    "    \"Account ID\": 1,\n",
    "    \"Username\": \"harrislisa\",\n",
    "    \"Platform\": \"TikTok\",\n",
    "    \"Follower Count\": 54217,\n",
    "    \"Posts Per Week\": 3,\n",
    "    \"Engagement Rate\": 0.0986,\n",
    "    \"Ad Spend (USD)\": 538.1,\n",
    "    \"Conversion Rate\": 0.049,\n",
    "    \"Campaign Reach\": 1308,\n",
    "    \"Platform_Code\": 0,\n",
    "    \"Follower_Bin\": \"Low\"\n",
    "}\n",
    "```\n",
    "\n",
    "превращается в \n",
    "\n",
    "```json\n",
    "{\n",
    "    \"Platform\": \"TikTok\",\n",
    "    \"Metric\": \"Follower Count\",\n",
    "    \"Value\": 54217,\n",
    "},\n",
    "{\n",
    "    \"Platform\": \"TikTok\",\n",
    "    \"Metric\": \"Posts Per Week\",\n",
    "    \"Value\": 3,\n",
    "}, ...\n",
    "```\n",
    "\n",
    "Для каждого уникальной пары значений (`Platform`, `Metric`) посчитайте моду среди всех значений `Value` для этой пары, результат сделайте списком и оставьте только наибольшее. В качестве ответа выведите сумму полученных мод (сумму всех значений в столбце `Value` уже после вычисления мод). Иначе говоря, выведите сумму всех мод значений для всех уникальных пар (`Platform`, `Metric`).\n",
    "\n",
    "**Hint**: [pd.melt](https://pandas.pydata.org/pandas-docs/stable/reference/api/pandas.melt.html), [pd.DataFrame.mode](https://pandas.pydata.org/pandas-docs/stable/reference/api/pandas.DataFrame.mode.html), [pd.DataFrameGroupBy.agg](https://pandas.pydata.org/docs/dev/reference/api/pandas.core.groupby.DataFrameGroupBy.agg.html)"
   ]
  },
  {
   "cell_type": "code",
   "execution_count": 289,
   "metadata": {},
   "outputs": [
    {
     "name": "stdout",
     "output_type": "stream",
     "text": [
      "3100285.4716\n"
     ]
    }
   ],
   "source": [
    "melted_df = df.melt(id_vars=['Platform'], \n",
    "                    value_vars=['Follower Count', 'Posts Per Week', 'Ad Spend (USD)', \n",
    "                                'Conversion Rate', 'Engagement Rate', 'Campaign Reach'],\n",
    "                    var_name='Metric', \n",
    "                    value_name='Value')\n",
    "\n",
    "print(melted_df.groupby(by = [\"Platform\", \"Metric\"])[\"Value\"].apply(lambda x : x.mode().max()).reset_index()[\"Value\"].sum())"
   ]
  },
  {
   "cell_type": "markdown",
   "metadata": {},
   "source": [
    "#### Задание 4\n",
    "\n",
    "А теперь хочется посмотреть на самые популярные аккаунты на разных платформах. Для каждой платформы отсортируйте датафрейм по убыванию количества подписчиков (`Follower Count`) - да, без циклов, сразу для всех платформ сделать сортировку, а затем оставьте только первые три записи для каждой платформы - это и будут три самых популярных аккаунта для каждой платформы. В качестве ответа выведите саму таблицу и минимальное значение `Follower Count` в ней.\n",
    "\n",
    "**Hint**: к *groupby* можно применять функции - это эквивалентно применению функции к каждой \"группе\" внутри groupby-объекта. Читайте [про применение apply к датафрейму после groupby](https://pandas.pydata.org/pandas-docs/stable/user_guide/groupby.html#flexible-apply)."
   ]
  },
  {
   "cell_type": "code",
   "execution_count": 290,
   "metadata": {},
   "outputs": [
    {
     "name": "stdout",
     "output_type": "stream",
     "text": [
      "     Platform  Follower Count\n",
      "0    Facebook          999982\n",
      "1    Facebook          997915\n",
      "2    Facebook          997512\n",
      "3   Instagram          999726\n",
      "4   Instagram          999351\n",
      "5   Instagram          997844\n",
      "6    LinkedIn          999055\n",
      "7    LinkedIn          998968\n",
      "8    LinkedIn          998925\n",
      "9      TikTok          999739\n",
      "10     TikTok          999234\n",
      "11     TikTok          998623\n",
      "12    Twitter          999919\n",
      "13    Twitter          999442\n",
      "14    Twitter          998216\n",
      "997512\n"
     ]
    }
   ],
   "source": [
    "n4 = df[[\"Platform\", \"Follower Count\"]]\n",
    "\n",
    "n4 = n4.sort_values(by=[\"Platform\", \"Follower Count\"], ascending=[True, False]).groupby(by=[\"Platform\"]).head(3).reset_index().drop(columns=['Account ID'])\n",
    "\n",
    "print(n4)\n",
    "print(n4[\"Follower Count\"].min())"
   ]
  },
  {
   "cell_type": "markdown",
   "metadata": {},
   "source": [
    "#### Задание 5\n",
    "\n",
    "Хочется посчитать какую-то метрику. Мы хотим посмотреть, на отношение разности суммы подписчиков аккаунтов с высокой и низкой конверсией к суммарному охвату рекламы на каждой платформе. То есть, мы делим аккаунты на две группы: высокая и низка конверсия. Затем мы смотрим на то, на сколько сильно влияние аккаунтов с высокой конверсией по сравнению с аккаунтами с низкой конверсией. \n",
    "\n",
    "Давайте определим *Conversion Influence* следущим образом:\n",
    "\n",
    "$$Conversion Influence = \\frac{Total Follower\\ Count (High) - Total Follower\\ Count (Low)}{Total Campaign Reach (High)+Total Campaign Reach (Low)}$$\n",
    "\n",
    "Считать эту метрику мы будет для каждой `Platform`. В этой формуле High - это значения всех сэмплов датасета, в которых `Conversion Rate` больше медианы, а `Low` - не более медианы. `Total Feature` - это суммарное количество значений `Feature` либо по `High` сэмплам, либо по `Low`.\n",
    "\n",
    "Чтобы постоянно не пересчитывать, где High. где Low, сделайте новую колонку в датасете `Conversion_Category`. Положите в нее для каждой строки либо High, либо Low.\n",
    "\n",
    "Выведите платформу с самым большим `Conversion Influence`.\n",
    "\n",
    "**Hint**: данное задание не про *groupby*, а скорее про [pd.pivot_table](https://pandas.pydata.org/pandas-docs/stable/reference/api/pandas.pivot_table.html). Сделайте сводную таблицу, по которой уже можно посчитать суммы, а затем подставить их в формулы."
   ]
  },
  {
   "cell_type": "code",
   "execution_count": 291,
   "metadata": {},
   "outputs": [
    {
     "name": "stdout",
     "output_type": "stream",
     "text": [
      "Twitter\n"
     ]
    }
   ],
   "source": [
    "n5 = pd.DataFrame(df)\n",
    "temp = n5[\"Conversion Rate\"].median()\n",
    "n5[\"Conversion_Category\"] = np.where(n5[\"Conversion Rate\"] > temp, \"High\", \"Low\")\n",
    "n5 = pd.pivot_table(n5, values = [\"Follower Count\", \"Campaign Reach\"], index = \"Platform\", columns = \"Conversion_Category\", aggfunc = \"sum\")\n",
    "n5[\"Conversion Influence\"] = n5[(\"Follower Count\", \"High\")] - n5[(\"Follower Count\", \"Low\")] / (n5[(\"Campaign Reach\", \"High\")] + n5[(\"Campaign Reach\", \"Low\")])\n",
    "print(n5[\"Conversion Influence\"].idxmax())"
   ]
  },
  {
   "cell_type": "markdown",
   "metadata": {},
   "source": [
    "#### Задание 6\n",
    "\n",
    "Мы знаем, что вам понравилось считать метрики по формуле. Давайте закрепим этот успех. Теперь для каждой платформы посчитаем, на сколько эффективна реклама в разрезе трех последовательных записей в датасете. \n",
    "\n",
    "Для каждой платформы отсортируйте записи в порядке убывания `Posts Per Week`. Будто бы аккаунты, которые постят чаще, используют более \"активные\" стратегии по рекламе. Теперь посчитайте *скользущие суммы с окном 3* по `Campaign Reach` и `Ad Spend (USD)`. Скользящая сумма с окном N - это вы идете по массиву, берете все последовательные тройки записей и суммируете их. Для первых двух записей троек не найдется. Для них скользящее среднее - NaN, что нам не помешает. \n",
    "\n",
    "Теперь для каждого окна посчитайте \n",
    "\n",
    "$$Rolling Efficiency Ratio = \\frac{Rolling Sum of Campaign Reach}{Rolling Sum of Ad Spend}$$\n",
    "\n",
    "По сути, для каждого окна вы посчитаете сколько пользователе привлеклось за один доллар, потреченный на рекламу, в данном окне. Понятно, что значений будет столько, сколько окон. Нам интересно максимально значение такой эффективности для каждой платформы.\n",
    "\n",
    "В качестве ответа выведите название платформы с наибольшей максимальной эффективность и наименьшей (два названия, не одно, не три, ровно два).\n",
    "\n",
    "**Hint**: окна можно делать через [pd.DataFrame.rolling](https://pandas.pydata.org/pandas-docs/stable/reference/api/pandas.DataFrame.rolling.html)."
   ]
  },
  {
   "cell_type": "code",
   "execution_count": 292,
   "metadata": {},
   "outputs": [
    {
     "name": "stdout",
     "output_type": "stream",
     "text": [
      "Facebook\n",
      "TikTok\n"
     ]
    }
   ],
   "source": [
    "n6 = df.sort_values(by = [\"Platform\", \"Posts Per Week\"], ascending=[False, False])\n",
    "\n",
    "n6[\"Rolling Sum of Campaign Reach\"] = n6.groupby(by = \"Platform\")[\"Campaign Reach\"].rolling(window = 3).sum().reset_index(level = 0, drop = True)\n",
    "n6[\"Rolling Sum of Ad Spend\"] = n6.groupby(\"Platform\")[\"Ad Spend (USD)\"].rolling(window = 3).sum().reset_index(level = 0, drop = True)\n",
    "\n",
    "n6[\"Rolling Efficiency Ratio\"] = n6[\"Rolling Sum of Campaign Reach\"] / n6[\"Rolling Sum of Ad Spend\"]\n",
    "\n",
    "temp = n6.groupby(\"Platform\")[\"Rolling Efficiency Ratio\"].max().reset_index()\n",
    "\n",
    "print(temp.loc[temp[\"Rolling Efficiency Ratio\"].idxmax(), \"Platform\"])\n",
    "print(temp.loc[temp[\"Rolling Efficiency Ratio\"].idxmin(), \"Platform\"])"
   ]
  },
  {
   "cell_type": "markdown",
   "metadata": {},
   "source": [
    "#### Задание 7\n",
    "\n",
    "Это еще не все прекрасные функции pandas, которые мы хотим вам показать. Теперь вы посчитаете, сколько аккаунтов на каждой платформе одновременно лучшие по `Engagement Rate` и `Conversion Rate`.\n",
    "\n",
    "Сделайте два отдельных суб-сета. В одном оставьте для каждой платфмормы один топовый аккаунт по `Engagement Rate`, в другом - по `Conversion Rate`. Соедините эти два подмножества по столбцу `Platform` так, что в одно строке есть описание сразу двух аккаунтов-лидеров. Теперь посмотрите равны ли имена аккаунтов в одной строке. Выведите количество строк, в которых названия аккаунтов совпадают."
   ]
  },
  {
   "cell_type": "code",
   "execution_count": 293,
   "metadata": {},
   "outputs": [
    {
     "data": {
      "text/plain": [
       "0"
      ]
     },
     "execution_count": 293,
     "metadata": {},
     "output_type": "execute_result"
    }
   ],
   "source": [
    "t_eng = df.loc[df.groupby(\"Platform\")[\"Engagement Rate\"].idxmax()]\n",
    "t_con = df.loc[df.groupby(\"Platform\")[\"Conversion Rate\"].idxmax()]\n",
    "\n",
    "n7 = pd.merge(\n",
    "    t_eng[[\"Platform\", \"Username\"]], \n",
    "    t_con[[\"Platform\", \"Username\"]],\n",
    "    on = \"Platform\"\n",
    ")\n",
    "\n",
    "len(n7[n7[\"Username_x\"] == n7[\"Username_y\"]])"
   ]
  },
  {
   "cell_type": "markdown",
   "metadata": {},
   "source": [
    "#### Задание 8\n",
    "\n",
    "Давайте теперь что-то попроще сделаем. Например, посчитаем отношение суммарного количества подписчиков на аккаунтах с высокой конверсией к такой же сумме в аккаунтах с низкой конверсией (очевидно, для каждой платформы). По сути, мы просто хотим получить число, которое характеризует, на сколько сильно аккаунты с высокой конверсией \"доминируют\" над аккаунтами с низкой конверсией в плане количества подписчиков.\n",
    "\n",
    "Высокой конверсией будем считать конверсию больше средней. Остальное - низкая. Посчитайте суммы подписчиков для каждой платформы, поделите одно на другое и выведите разницу между самым большим значением и самым маленьким, а также платформы, которые соотвутствуют этим значениям.\n",
    "\n",
    "Используйте магическую команду `%%time`, чтобы замерить, сколько времени ушло на исполнение вашего pandas-скрипта."
   ]
  },
  {
   "cell_type": "code",
   "execution_count": 294,
   "metadata": {},
   "outputs": [
    {
     "name": "stdout",
     "output_type": "stream",
     "text": [
      "0.17688741338715763\n",
      "Twitter\n",
      "Instagram\n",
      "CPU times: user 9.37 ms, sys: 9.46 ms, total: 18.8 ms\n",
      "Wall time: 19.5 ms\n"
     ]
    }
   ],
   "source": [
    "%%time\n",
    "\n",
    "n8 = pd.DataFrame(df)\n",
    "temp = n8[\"Conversion Rate\"].mean()\n",
    "n8[\"Conversion_Category\"] = np.where(n8[\"Conversion Rate\"] > temp, \"High\", \"Low\")\n",
    "\n",
    "sum_subs = n8.groupby([\"Platform\", \"Conversion_Category\"])[\"Follower Count\"].sum().unstack()\n",
    "sum_subs[\"Ratio\"] = sum_subs[\"High\"] / sum_subs[\"Low\"]\n",
    "\n",
    "print(sum_subs[\"Ratio\"].max() - sum_subs[\"Ratio\"].min())\n",
    "print(sum_subs[\"Ratio\"].idxmax())\n",
    "print(sum_subs[\"Ratio\"].idxmin())"
   ]
  },
  {
   "cell_type": "markdown",
   "metadata": {},
   "source": [
    "#### Задание 9\n",
    "\n",
    "А теперь решите задание 8 чисто питоном. Никаких функций и методов pandas. Только питоновские циклы. Замерьте время выполнения кода. Наконец, сравните время в задании 8 и 9. Напишите ниже, кто же победил: чистый python и pandas?\n",
    "\n",
    "**Hint**: Чтобы итерироваться по датафрейму, можно из него сделать генератор через [pd.DataFrame.iterrows](https://pandas.pydata.org/pandas-docs/stable/reference/api/pandas.DataFrame.iterrows.html) или [pd.DataFrame.itertuples](https://pandas.pydata.org/pandas-docs/stable/reference/api/pandas.DataFrame.itertuples.html#pandas.DataFrame.itertuples). К слову, это не все способы итерироваться по датафрейму."
   ]
  },
  {
   "cell_type": "code",
   "execution_count": 295,
   "metadata": {},
   "outputs": [
    {
     "name": "stdout",
     "output_type": "stream",
     "text": [
      "0.17688741338715763\n",
      "Twitter\n",
      "Instagram\n",
      "CPU times: user 1.71 s, sys: 5.6 ms, total: 1.72 s\n",
      "Wall time: 1.89 s\n"
     ]
    }
   ],
   "source": [
    "%%time\n",
    "\n",
    "n9 = pd.DataFrame(df)\n",
    "con_mean = sum(item[\"Conversion Rate\"] for _, item in n9.iterrows()) / len(n9)\n",
    "\n",
    "platforms_subs_high = dict()\n",
    "platforms_subs_low = dict()\n",
    "ratio = dict()\n",
    "\n",
    "for _, item in df.iterrows():\n",
    "    platform = item[\"Platform\"]\n",
    "    subs = item[\"Follower Count\"]\n",
    "    if item[\"Conversion Rate\"] > con_mean:\n",
    "        if platform not in platforms_subs_high:\n",
    "            platforms_subs_high[platform] = subs\n",
    "        else:\n",
    "            platforms_subs_high[platform] += subs\n",
    "    else:\n",
    "        if platform not in platforms_subs_low:\n",
    "            platforms_subs_low[platform] = subs\n",
    "        else:\n",
    "            platforms_subs_low[platform] += subs\n",
    "\n",
    "for k in platforms_subs_high:\n",
    "    ratio[k] = platforms_subs_high[k] / platforms_subs_low[k]\n",
    "\n",
    "print(max(ratio.values()) - min(ratio.values()))\n",
    "print(max(ratio, key = ratio.get))\n",
    "print(min(ratio, key = ratio.get))"
   ]
  },
  {
   "cell_type": "markdown",
   "metadata": {},
   "source": [
    "**А победителем является**: Однозначно - Pandas, быстрее в 60 раз... (на моём ноутбуке)"
   ]
  },
  {
   "cell_type": "markdown",
   "metadata": {},
   "source": [
    "#### Задание 10\n",
    "\n",
    "Крайне серьезное задание. Отнеситесь к нему соответствующе. В ячейке ниже напишите ваш любимый анекдот или мем (только без баянов, окей?). Можно плохие. Помните, это задание на полный балл. Проверяющий работу ассистент должен улыбнуться.\n",
    "\n",
    "Если вставляете картинку, то убедитесь, что вы ее не подгружаете локально. А то будет неудобно - потерять балл на этом задании, когда надо было выложить картинку на облако и прокинуть ссылку. И нет, нельзя сюда просто ссылку вставить. Либо ищите, как вставить картинку, либо смешной анекдот. Есть всего два стула - выбирайте..."
   ]
  },
  {
   "cell_type": "markdown",
   "metadata": {},
   "source": [
    "Ну, попали русский, француз и индус в ад. Встречает их на входе дьявол с длинным таким бичом и говорит им:\n",
    "\n",
    "— У вас есть шанс попасть в рай, но вы должны выдержать три удара моей плетью и не закричать. Также вам дается возможность выбрать вещь, с помощью которой вы можете защититься от бича.\n",
    "\n",
    "— Ну, француз, чем будешь защищаться?\n",
    "\n",
    "Француз выбирает стальной щит. Дьявол хлопает плетью по щиту, щит в пыль, он хлопает плетью по французу — тот как закричит, ну, он его в ад.\n",
    "\n",
    "Спрашивает у индуса:\n",
    "\n",
    "— А ты что выбираешь для своей защиты?\n",
    "\n",
    "Тот ему отвечает: \n",
    "\n",
    "— Я всю жизнь йогой занимался, мне не нужна никакая защита, сейчас в транс уйду, и мне никакой бич не страшен.\n",
    "\n",
    "Ну, уходит он в транс. Дьявол его бичом раз — хлоп, тот молчит. Он его второй раз, третий — тот молчит. Дьявол говорит индусу:\n",
    "\n",
    "— Можешь идти в рай.\n",
    "\n",
    "Индус ему отвечает:\n",
    "\n",
    "— Я, типа, подожду, посмотрю, как русский из этой ситуации выйдет, он же всегда во всех историях побеждает.\n",
    "\n",
    "Дьявол русскому:\n",
    "\n",
    "— Ну, иди, твоя очередь. Чем будешь защищаться?\n",
    "\n",
    "Русский отвечает:\n",
    "\n",
    "— А чем, чем - индусом конечно! "
   ]
  }
 ],
 "metadata": {
  "kernelspec": {
   "display_name": "Python 3 (ipykernel)",
   "language": "python",
   "name": "python3"
  },
  "language_info": {
   "codemirror_mode": {
    "name": "ipython",
    "version": 3
   },
   "file_extension": ".py",
   "mimetype": "text/x-python",
   "name": "python",
   "nbconvert_exporter": "python",
   "pygments_lexer": "ipython3",
   "version": "3.9.21"
  }
 },
 "nbformat": 4,
 "nbformat_minor": 4
}
